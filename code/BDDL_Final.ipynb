{
  "cells": [
    {
      "cell_type": "markdown",
      "metadata": {
        "id": "qR6OpZFhZjpE"
      },
      "source": [
        "# Vehicle License Plate Detection and Recognition\n",
        "\n",
        "If you have any trouble with any part of this notebook, please contact me at splithor1zon@protonmail.ch\n",
        "\n",
        "## 1 License Plate Detection using Transfer Learning\n",
        "\n",
        "### References\n",
        "\n",
        "#### Base Code Sources:\n",
        "\n",
        "- [YouTube tutorial](https://www.youtube.com/watch?v=0-4p_QgrdbE)\n",
        "- [GitHub specific](https://github.com/nicknochnack/RealTimeAutomaticNumberPlateRecognition)\n",
        "- [GitHub general](https://github.com/nicknochnack/TFODCourse)\n",
        "\n",
        "#### Pre-trained Model References:\n",
        "\n",
        "- [SSD paper](https://arxiv.org/pdf/1512.02325.pdf)\n",
        "- [SSD review](https://towardsdatascience.com/review-ssd-single-shot-detector-object-detection-851a94607d11)\n",
        "- [MobileNet v2 paper](https://arxiv.org/pdf/1801.04381.pdf)\n",
        "- [Searching for MobileNet v3](https://arxiv.org/pdf/1905.02244.pdf)\n",
        "\n",
        "### 1.1 Prepare Environment\n",
        "\n",
        "#### 1.1.1 Select a Pre-trained Model\n"
      ]
    },
    {
      "cell_type": "code",
      "execution_count": null,
      "metadata": {
        "id": "NmqeIZiCZjpP"
      },
      "outputs": [],
      "source": [
        "# SSD MobileNet v2\n",
        "CUSTOM_MODEL_NAME = 'my_ssd_mobnet' \n",
        "PRETRAINED_MODEL_NAME = 'ssd_mobilenet_v2_fpnlite_320x320_coco17_tpu-8'\n",
        "PRETRAINED_MODEL_URL = 'http://download.tensorflow.org/models/object_detection/tf2/20200711/ssd_mobilenet_v2_fpnlite_320x320_coco17_tpu-8.tar.gz'"
      ]
    },
    {
      "cell_type": "markdown",
      "metadata": {
        "id": "APUzR2YWZjpR"
      },
      "source": [
        "#### 1.1.2 Environment Variables"
      ]
    },
    {
      "cell_type": "code",
      "execution_count": null,
      "metadata": {
        "id": "jCXjZC63ZjpS"
      },
      "outputs": [],
      "source": [
        "import os\n",
        "TF_RECORD_SCRIPT_NAME = 'generate_tfrecord.py'\n",
        "LABEL_MAP_NAME = 'label_map.pbtxt'\n",
        "\n",
        "# Needed folders for the files that will be generated\n",
        "paths = {\n",
        "    'WORKSPACE_PATH': os.path.join('Tensorflow', 'workspace'),\n",
        "    'SCRIPTS_PATH': os.path.join('Tensorflow','scripts'),\n",
        "    'APIMODEL_PATH': os.path.join('Tensorflow','models'),\n",
        "    'ANNOTATION_PATH': os.path.join('Tensorflow', 'workspace','annotations'),\n",
        "    'IMAGE_PATH': os.path.join('Tensorflow', 'workspace','images'),\n",
        "    'MODEL_PATH': os.path.join('Tensorflow', 'workspace','models'),\n",
        "    'PRETRAINED_MODEL_PATH': os.path.join('Tensorflow', 'workspace','pre-trained-models'),\n",
        "    'CHECKPOINT_PATH': os.path.join('Tensorflow', 'workspace','models',CUSTOM_MODEL_NAME), \n",
        "    'OUTPUT_PATH': os.path.join('Tensorflow', 'workspace','models',CUSTOM_MODEL_NAME, 'export'), \n",
        "    'TFJS_PATH':os.path.join('Tensorflow', 'workspace','models',CUSTOM_MODEL_NAME, 'tfjsexport'), \n",
        "    'TFLITE_PATH':os.path.join('Tensorflow', 'workspace','models',CUSTOM_MODEL_NAME, 'tfliteexport'), \n",
        "    'PROTOC_PATH':os.path.join('Tensorflow','protoc'),\n",
        "    'EXPORT_PATH':os.path.join('export')\n",
        " }\n",
        " \n",
        "# Required system files \n",
        "files = {\n",
        "    'PIPELINE_CONFIG':os.path.join('Tensorflow', 'workspace','models', CUSTOM_MODEL_NAME, 'pipeline.config'),\n",
        "    'TF_RECORD_SCRIPT': os.path.join(paths['SCRIPTS_PATH'], TF_RECORD_SCRIPT_NAME), \n",
        "    'LABELMAP': os.path.join(paths['ANNOTATION_PATH'], LABEL_MAP_NAME)\n",
        "}\n",
        "\n",
        "# OS check + create folders\n",
        "for path in paths.values():\n",
        "    if not os.path.exists(path):\n",
        "        if os.name == 'posix':\n",
        "            !mkdir -p {path}\n",
        "        if os.name == 'nt':\n",
        "            !mkdir {path}\n",
        "\n",
        "# Download selected tensorflow model and clone it into our tensorflow/model path using wget\n",
        "if os.name=='nt':\n",
        "    %pip install wget\n",
        "    import wget\n",
        "\n",
        "if not os.path.exists(os.path.join(paths['APIMODEL_PATH'], 'research', 'object_detection')):\n",
        "    !git clone https://github.com/tensorflow/models {paths['APIMODEL_PATH']}"
      ]
    },
    {
      "cell_type": "markdown",
      "metadata": {},
      "source": [
        "#### 1.1.3 Package Installation"
      ]
    },
    {
      "cell_type": "code",
      "execution_count": null,
      "metadata": {
        "colab": {
          "base_uri": "https://localhost:8080/",
          "height": 1000
        },
        "id": "rlRrUicNZjpU",
        "outputId": "75ee2245-8ccb-4f84-e943-eb3105c978b0"
      },
      "outputs": [],
      "source": [
        "# Install required packages (may take some time), if you still get missing package error, install it using pip install.\n",
        "%pip install tensorflow tensorflow-gpu --upgrade\n",
        "%pip install protobuf\n",
        "%pip install matplotlib\n",
        "%pip install apache-beam\n",
        "%pip install avro-python3\n",
        "%pip install contextlib2\n",
        "%pip install Cython\n",
        "%pip install lxml\n",
        "%pip install pycocotools\n",
        "%pip install gin-config\n",
        "%pip install \"google-api-python-client>=1.6.7\"\n",
        "%pip install \"kaggle>=1.3.9\"\n",
        "%pip install oauth2client\n",
        "%pip install opencv-python-headless\n",
        "%pip install \"py-cpuinfo>=3.3.0\"\n",
        "%pip install sacrebleu\n",
        "%pip install sentencepiece\n",
        "%pip install seqeval\n",
        "%pip install tensorflow-addons\n",
        "%pip install tensorflow-datasets\n",
        "%pip install \"tensorflow-hub>=0.6.0\"\n",
        "%pip install \"tensorflow-model-optimization>=0.4.1\"\n",
        "%pip install \"tensorflow-text~=2.8.0\"\n",
        "%pip install \"pyyaml<6.0,>=5.1\""
      ]
    },
    {
      "cell_type": "code",
      "execution_count": null,
      "metadata": {
        "colab": {
          "base_uri": "https://localhost:8080/"
        },
        "id": "8Swh9Z7YfO4r",
        "outputId": "00796604-d11a-4afa-d953-81021fce9631"
      },
      "outputs": [],
      "source": [
        "# Verify installation\n",
        "!pip list"
      ]
    },
    {
      "cell_type": "code",
      "execution_count": null,
      "metadata": {
        "colab": {
          "base_uri": "https://localhost:8080/"
        },
        "id": "LOId-GGDZjpW",
        "outputId": "56a149c8-b74c-44ff-cab1-d631c026c322"
      },
      "outputs": [],
      "source": [
        "# Installs protocol buffer depending on our machine type and install Object detection\n",
        "# https://developers.google.com/protocol-buffers/docs/downloads\n",
        "if os.name=='posix':  \n",
        "    !apt-get install protobuf-compiler\n",
        "    !cd Tensorflow/models/research && protoc object_detection/protos/*.proto --python_out=. && cp object_detection/packages/tf2/setup.py . && python -m pip install . \n",
        "    \n",
        "if os.name=='nt':\n",
        "    url=\"https://github.com/protocolbuffers/protobuf/releases/download/v3.15.6/protoc-3.15.6-win64.zip\"\n",
        "    wget.download(url)\n",
        "    !move protoc-3.15.6-win64.zip {paths['PROTOC_PATH']}\n",
        "    !cd {paths['PROTOC_PATH']} && tar -xf protoc-3.15.6-win64.zip\n",
        "    os.environ['PATH'] += os.pathsep + os.path.abspath(os.path.join(paths['PROTOC_PATH'], 'bin'))   \n",
        "    !cd Tensorflow/models/research && protoc object_detection/protos/*.proto --python_out=. && copy object_detection\\\\packages\\\\tf2\\\\setup.py setup.py && python setup.py build && python setup.py install\n",
        "    !cd Tensorflow/models/research/slim && pip install -e . "
      ]
    },
    {
      "cell_type": "code",
      "execution_count": null,
      "metadata": {
        "colab": {
          "base_uri": "https://localhost:8080/"
        },
        "id": "m9gJWuagZjpZ",
        "outputId": "6b216bf0-eebe-482f-93a4-fd2068a2f714"
      },
      "outputs": [],
      "source": [
        "# Checks if we installed correctly\n",
        "# This check should end with OK and your GPU (if you have one) should be detected\n",
        "# If some packages are still missing, install them using pip\n",
        "VERIFICATION_SCRIPT = os.path.join(paths['APIMODEL_PATH'], 'research', 'object_detection', 'builders', 'model_builder_tf2_test.py')\n",
        "!python {VERIFICATION_SCRIPT}"
      ]
    },
    {
      "cell_type": "code",
      "execution_count": null,
      "metadata": {
        "colab": {
          "base_uri": "https://localhost:8080/"
        },
        "id": "NUjbYgnKZjpZ",
        "outputId": "dabcfc53-34fa-41a7-f335-4f33ae3d02fa"
      },
      "outputs": [],
      "source": [
        "# Pull the pretrained model that we chose at the beginning (MobileNet) to do transfer learning and unzip it\n",
        "# In the case of no object_detection module error please restart the kernel or PC\n",
        "import object_detection\n",
        "if os.name =='posix':\n",
        "    !wget {PRETRAINED_MODEL_URL}\n",
        "    !mv {PRETRAINED_MODEL_NAME+'.tar.gz'} {paths['PRETRAINED_MODEL_PATH']}\n",
        "    !cd {paths['PRETRAINED_MODEL_PATH']} && tar -zxvf {PRETRAINED_MODEL_NAME+'.tar.gz'}\n",
        "if os.name == 'nt':\n",
        "    wget.download(PRETRAINED_MODEL_URL)\n",
        "    !move {PRETRAINED_MODEL_NAME+'.tar.gz'} {paths['PRETRAINED_MODEL_PATH']}\n",
        "    !cd {paths['PRETRAINED_MODEL_PATH']} && tar -zxvf {PRETRAINED_MODEL_NAME+'.tar.gz'}"
      ]
    },
    {
      "cell_type": "markdown",
      "metadata": {
        "id": "h1sErOWZZjpa"
      },
      "source": [
        "#### 1.1.4 Data Preparation\n",
        "\n",
        "You need to download data separately.\n",
        "- [Sample Dataset 1](https://www.kaggle.com/datasets/andrewmvd/car-plate-detection)\n",
        "\n",
        "Then you need to divide samples for training/testing in `.\\Tensorflow\\workspace\\images` and place them into train/test folders respectively along with their annotations."
      ]
    },
    {
      "cell_type": "code",
      "execution_count": null,
      "metadata": {
        "id": "glfrMRjaZjpb"
      },
      "outputs": [],
      "source": [
        "# Creates the mapping of all the possible object we can find within the input image from the xml file searching for the object licence\n",
        "labels = [{'name':'licence', 'id':1}]\n",
        "\n",
        "with open(files['LABELMAP'], 'w') as f:\n",
        "    for label in labels:\n",
        "        f.write('item { \\n')\n",
        "        f.write('\\tname:\\'{}\\'\\n'.format(label['name']))\n",
        "        f.write('\\tid:{}\\n'.format(label['id']))\n",
        "        f.write('}\\n')"
      ]
    },
    {
      "cell_type": "markdown",
      "metadata": {
        "id": "0ADbXoOTZjpb"
      },
      "source": [
        "For the next step you need to manually change the record script found at: `.\\Tensorflow\\scripts\\generate_tfrecord.py`. Change these lines:\n",
        "> int(member[4][0].text),<br>\n",
        "> int(member[4][1].text),<br>\n",
        "> int(member[4][2].text),<br>\n",
        "> int(member[4][3].text)\n",
        "\n",
        "to:\n",
        "\n",
        "> int(member[5][0].text),<br>\n",
        "> int(member[5][1].text),<br>\n",
        "> int(member[5][2].text),<br>\n",
        "> int(member[5][3].text)"
      ]
    },
    {
      "cell_type": "code",
      "execution_count": null,
      "metadata": {
        "colab": {
          "base_uri": "https://localhost:8080/"
        },
        "id": "B-byBUtOZjpc",
        "outputId": "3c56fd64-1a8d-4229-c8a7-db02e83ee0be"
      },
      "outputs": [],
      "source": [
        "# Create record files.\n",
        "!python {files['TF_RECORD_SCRIPT']} -x {os.path.join(paths['IMAGE_PATH'], 'train')} -l {files['LABELMAP']} -o {os.path.join(paths['ANNOTATION_PATH'], 'train.record')} \n",
        "!python {files['TF_RECORD_SCRIPT']} -x {os.path.join(paths['IMAGE_PATH'], 'test')} -l {files['LABELMAP']} -o {os.path.join(paths['ANNOTATION_PATH'], 'test.record')} "
      ]
    },
    {
      "cell_type": "code",
      "execution_count": null,
      "metadata": {
        "colab": {
          "base_uri": "https://localhost:8080/"
        },
        "id": "iXX2wHubZjpc",
        "outputId": "369bff38-f8e2-4838-82c2-cb2656f2174a"
      },
      "outputs": [],
      "source": [
        "# Import libraries and prepare config file\n",
        "import tensorflow as tf\n",
        "from object_detection.utils import config_util\n",
        "from object_detection.protos import pipeline_pb2\n",
        "from google.protobuf import text_format\n",
        "\n",
        "if os.name =='posix':\n",
        "    !cp {os.path.join(paths['PRETRAINED_MODEL_PATH'], PRETRAINED_MODEL_NAME, 'pipeline.config')} {os.path.join(paths['CHECKPOINT_PATH'])}\n",
        "if os.name == 'nt':\n",
        "    !copy {os.path.join(paths['PRETRAINED_MODEL_PATH'], PRETRAINED_MODEL_NAME, 'pipeline.config')} {os.path.join(paths['CHECKPOINT_PATH'])}"
      ]
    },
    {
      "cell_type": "code",
      "execution_count": null,
      "metadata": {
        "id": "eSOXDM0pZjpf"
      },
      "outputs": [],
      "source": [
        "# Fine-tune the model configuration\n",
        "pipeline_config = pipeline_pb2.TrainEvalPipelineConfig()\n",
        "with tf.io.gfile.GFile(files['PIPELINE_CONFIG'], \"r\") as f:                                                                                                                                                                                                                     \n",
        "    proto_str = f.read()                                                                                                                                                                                                                                          \n",
        "    text_format.Merge(proto_str, pipeline_config)  \n",
        "\n",
        "pipeline_config.model.ssd.num_classes = len(labels)\n",
        "pipeline_config.train_config.batch_size = 4\n",
        "pipeline_config.train_config.fine_tune_checkpoint = os.path.join(paths['PRETRAINED_MODEL_PATH'], PRETRAINED_MODEL_NAME, 'checkpoint', 'ckpt-0')\n",
        "pipeline_config.train_config.fine_tune_checkpoint_type = \"detection\"\n",
        "pipeline_config.train_input_reader.label_map_path = files['LABELMAP']\n",
        "pipeline_config.train_input_reader.tf_record_input_reader.input_path[:] = [os.path.join(paths['ANNOTATION_PATH'], 'train.record')]\n",
        "pipeline_config.eval_input_reader[0].label_map_path = files['LABELMAP']\n",
        "pipeline_config.eval_input_reader[0].tf_record_input_reader.input_path[:] = [os.path.join(paths['ANNOTATION_PATH'], 'test.record')]\n",
        "\n",
        "config_text = text_format.MessageToString(pipeline_config)                                                                                                                                                                                                        \n",
        "with tf.io.gfile.GFile(files['PIPELINE_CONFIG'], \"wb\") as f:                                                                                                                                                                                                                     \n",
        "    f.write(config_text) "
      ]
    },
    {
      "cell_type": "markdown",
      "metadata": {
        "id": "019c5j_rZjpg"
      },
      "source": [
        "### 1.2 Model Training"
      ]
    },
    {
      "cell_type": "code",
      "execution_count": null,
      "metadata": {
        "id": "CAKiyinhZjpg"
      },
      "outputs": [],
      "source": [
        "# Build and print the training command. (Preferably executed in console to observe progress)\n",
        "TRAINING_SCRIPT = os.path.join(paths['APIMODEL_PATH'], 'research', 'object_detection', 'model_main_tf2.py')\n",
        "command = \"python {} --model_dir={} --pipeline_config_path={} --num_train_steps=10000\".format(TRAINING_SCRIPT, paths['CHECKPOINT_PATH'],files['PIPELINE_CONFIG'])\n",
        "print(command)"
      ]
    },
    {
      "cell_type": "code",
      "execution_count": null,
      "metadata": {
        "id": "bDAkuR2EZjph"
      },
      "outputs": [],
      "source": [
        "# Or execute the command here.\n",
        "!{command}"
      ]
    },
    {
      "cell_type": "markdown",
      "metadata": {
        "id": "p27iIjF2Zjph"
      },
      "source": [
        "### 1.3 Model Evaluation"
      ]
    },
    {
      "cell_type": "code",
      "execution_count": null,
      "metadata": {
        "id": "lFqeAl73Zjpi"
      },
      "outputs": [],
      "source": [
        "# Build and print the evaluation command. (Preferably executed in console to observe progress)\n",
        "command = \"python {} --model_dir={} --pipeline_config_path={} --checkpoint_dir={}\".format(TRAINING_SCRIPT, paths['CHECKPOINT_PATH'],files['PIPELINE_CONFIG'], paths['CHECKPOINT_PATH'])\n",
        "print(command)"
      ]
    },
    {
      "cell_type": "code",
      "execution_count": null,
      "metadata": {
        "id": "utGD-yhWZjpi"
      },
      "outputs": [],
      "source": [
        "# Or execute the command here.\n",
        "!{command}"
      ]
    },
    {
      "cell_type": "markdown",
      "metadata": {},
      "source": [
        "### 1.4 Loading Detection Model"
      ]
    },
    {
      "cell_type": "code",
      "execution_count": null,
      "metadata": {},
      "outputs": [],
      "source": [
        "# Load the checkpoint\n",
        "import os\n",
        "import tensorflow as tf\n",
        "from object_detection.utils import label_map_util\n",
        "from object_detection.utils import visualization_utils as viz_utils\n",
        "from object_detection.builders import model_builder\n",
        "from object_detection.utils import config_util\n",
        "\n",
        "configs = config_util.get_configs_from_pipeline_file(files['PIPELINE_CONFIG'])\n",
        "detection_model = model_builder.build(model_config=configs['model'], is_training=False)\n",
        "\n",
        "# Load latest checkpoint - change \"ckpt-#\" to load latest model\n",
        "ckpt = tf.compat.v2.train.Checkpoint(model=detection_model)\n",
        "ckpt.restore(os.path.join(paths['CHECKPOINT_PATH'], 'ckpt-11')).expect_partial()\n",
        "\n",
        "# Prediction method\n",
        "@tf.function\n",
        "def detect_fn(image):\n",
        "    image, shapes = detection_model.preprocess(image)\n",
        "    prediction_dict = detection_model.predict(image, shapes)\n",
        "    detections = detection_model.postprocess(prediction_dict, shapes)\n",
        "    return detections"
      ]
    },
    {
      "cell_type": "markdown",
      "metadata": {},
      "source": [
        "### 1.5 Detection Test"
      ]
    },
    {
      "cell_type": "code",
      "execution_count": null,
      "metadata": {},
      "outputs": [],
      "source": [
        "import cv2 \n",
        "import numpy as np\n",
        "from matplotlib import pyplot as plt\n",
        "%matplotlib inline\n",
        "\n",
        "category_index = label_map_util.create_category_index_from_labelmap(files['LABELMAP'])\n",
        "IMAGE_PATH = os.path.join(paths['IMAGE_PATH'], 'test', 'Cars425.png')"
      ]
    },
    {
      "cell_type": "code",
      "execution_count": null,
      "metadata": {},
      "outputs": [],
      "source": [
        "img = cv2.imread(IMAGE_PATH)\n",
        "image_np = np.array(img)\n",
        "\n",
        "input_tensor = tf.convert_to_tensor(np.expand_dims(image_np, 0), dtype=tf.float32)\n",
        "detections = detect_fn(input_tensor)\n",
        "\n",
        "num_detections = int(detections.pop('num_detections'))\n",
        "detections = {key: value[0, :num_detections].numpy()\n",
        "              for key, value in detections.items()}\n",
        "detections['num_detections'] = num_detections\n",
        "\n",
        "detections['detection_classes'] = detections['detection_classes'].astype(np.int64)\n",
        "\n",
        "label_id_offset = 1\n",
        "image_np_with_detections = image_np.copy()\n",
        "\n",
        "viz_utils.visualize_boxes_and_labels_on_image_array(\n",
        "            image_np_with_detections,\n",
        "            detections['detection_boxes'],\n",
        "            detections['detection_classes']+label_id_offset,\n",
        "            detections['detection_scores'],\n",
        "            category_index,\n",
        "            use_normalized_coordinates=True,\n",
        "            max_boxes_to_draw=5,\n",
        "            min_score_thresh=.8,\n",
        "            agnostic_mode=False)\n",
        "\n",
        "plt.imshow(cv2.cvtColor(image_np_with_detections, cv2.COLOR_BGR2RGB))\n",
        "plt.show()"
      ]
    },
    {
      "cell_type": "markdown",
      "metadata": {
        "id": "Yu5P-HWrZjpm"
      },
      "source": [
        "## 2 Recognition\n"
      ]
    },
    {
      "cell_type": "markdown",
      "metadata": {
        "id": "RTe9UmRRZjpn"
      },
      "source": [
        "### 2.1 Prepare Environment"
      ]
    },
    {
      "cell_type": "code",
      "execution_count": null,
      "metadata": {},
      "outputs": [],
      "source": [
        "import cv2\n",
        "import datetime\n",
        "import numpy as np\n",
        "import pandas as pd\n",
        "import matplotlib.pyplot as plt\n",
        "import tensorflow as tf\n",
        "from keras.models import Sequential\n",
        "from keras.layers import Dense\n",
        "from keras.layers import Dropout\n",
        "from keras.layers import Flatten, MaxPool2D\n",
        "from keras.layers.convolutional import Conv2D\n",
        "from keras.layers.convolutional import MaxPooling2D\n",
        "from keras import backend as K\n",
        "from keras.utils import np_utils\n",
        "from tensorflow.keras.preprocessing.image import ImageDataGenerator\n",
        "from tensorflow.keras.models import Sequential\n",
        "from tensorflow.keras.layers import Dense, Flatten, MaxPooling2D, Dropout, Conv2D, TimeDistributed, Bidirectional,GRU, BatchNormalization, AveragePooling2D\n",
        "from tensorflow.keras import optimizers"
      ]
    },
    {
      "cell_type": "code",
      "execution_count": null,
      "metadata": {
        "id": "OLLJmOyDZjpn"
      },
      "outputs": [],
      "source": [
        "# Prepare dataset\n",
        "train_datagen = ImageDataGenerator(rescale=1./255, width_shift_range=0.1, height_shift_range=0.1)\n",
        "train_generator = train_datagen.flow_from_directory(\n",
        "        'ocr-data/train',  # this is the target directory\n",
        "        target_size=(28,28),  # all images will be resized to 28x28\n",
        "        batch_size=1,\n",
        "        class_mode='categorical')\n",
        "\n",
        "validation_generator = train_datagen.flow_from_directory(\n",
        "        'ocr-data/val',  # this is the target directory\n",
        "        target_size=(28,28), batch_size=1,\n",
        "        class_mode='categorical')"
      ]
    },
    {
      "cell_type": "markdown",
      "metadata": {},
      "source": [
        "### 2.2 Select Architecture"
      ]
    },
    {
      "cell_type": "code",
      "execution_count": null,
      "metadata": {},
      "outputs": [],
      "source": [
        "# Simple reference architecture https://www.analyticsvidhya.com/blog/2020/10/what-is-the-convolutional-neural-network-architecture/#h2_6\n",
        "# https://link.springer.com/content/pdf/10.1007%2Fs42452-019-1161-5.pdf\n",
        "\n",
        "class CNN1:\n",
        "    @staticmethod\n",
        "    def build():\n",
        "        model = Sequential()\n",
        "        model.add(Conv2D(32, kernel_size = 5, activation=\"relu\", input_shape=(28,28,3)))\n",
        "        model.add(MaxPooling2D(pool_size=(2, 2), strides=2))\n",
        "        model.add(Conv2D(50, kernel_size = 5, activation=\"relu\"))\n",
        "        model.add(MaxPooling2D(pool_size=(2, 2), strides=2))\n",
        "        model.add(Flatten())\n",
        "        model.add(Dense(512))\n",
        "        model.add(Dropout(0.2))\n",
        "        model.add(Dense(36, activation='softmax'))\n",
        "        return model"
      ]
    },
    {
      "cell_type": "code",
      "execution_count": null,
      "metadata": {
        "id": "dQPyO7kYZjpn"
      },
      "outputs": [],
      "source": [
        "# LeNet inspired architecture https://www.analyticsvidhya.com/blog/2020/10/what-is-the-convolutional-neural-network-architecture/#h2_6\n",
        "# https://d2l.ai/chapter_convolutional-neural-networks/lenet.html\n",
        "\n",
        "class CNN2:\n",
        "    @staticmethod\n",
        "    def build():\n",
        "        model = Sequential()\n",
        "        model.add(Conv2D(18, kernel_size = 5, activation=\"sigmoid\", input_shape=(28,28,3), padding=\"same\"))\n",
        "        model.add(AveragePooling2D(pool_size=(2, 2), strides=2))\n",
        "        model.add(Conv2D(48, kernel_size = 5, activation=\"sigmoid\"))\n",
        "        model.add(AveragePooling2D(pool_size=(2, 2), strides=2))\n",
        "        model.add(Flatten())\n",
        "        model.add(Dense(360, activation='sigmoid'))\n",
        "        model.add(Dense(252, activation='sigmoid'))\n",
        "        model.add(Dense(36, activation='softmax'))\n",
        "        return model"
      ]
    },
    {
      "cell_type": "code",
      "execution_count": null,
      "metadata": {},
      "outputs": [],
      "source": [
        "class CNN3:\n",
        "    @staticmethod\n",
        "    def build():\n",
        "        model = Sequential()\n",
        "\n",
        "        model.add(Conv2D(32, (3, 3), padding='same', activation='relu', input_shape=(28,28,3)))\n",
        "        model.add(Conv2D(32, (3, 3), activation='relu'))\n",
        "        model.add(MaxPooling2D(pool_size=(2, 2)))\n",
        "        model.add(Dropout(0.25))\n",
        "\n",
        "        model.add(Conv2D(64, (3, 3), padding='same', activation='relu'))\n",
        "        model.add(Conv2D(64, (3, 3), activation='relu'))\n",
        "        model.add(MaxPooling2D(pool_size=(2, 2)))\n",
        "        model.add(Dropout(0.25))\n",
        "\n",
        "        model.add(Conv2D(64, (3, 3), padding='same', activation='relu'))\n",
        "        model.add(Conv2D(64, (3, 3), activation='relu'))\n",
        "        model.add(MaxPooling2D(pool_size=(2, 2)))\n",
        "        model.add(Dropout(0.25))\n",
        "\n",
        "        model.add(Flatten())\n",
        "        model.add(Dense(512, activation='relu'))\n",
        "        model.add(Dropout(0.5))\n",
        "        model.add(Dense(36, activation='softmax'))\n",
        "        return model"
      ]
    },
    {
      "cell_type": "code",
      "execution_count": null,
      "metadata": {},
      "outputs": [],
      "source": [
        "# Choose an architecture\n",
        "model = CNN2.build()"
      ]
    },
    {
      "cell_type": "code",
      "execution_count": null,
      "metadata": {},
      "outputs": [],
      "source": [
        "%pip install pydot\n",
        "%pip install pydotplus\n",
        "%pip install graphviz\n",
        "#Install graphviz for your system at https://graphviz.gitlab.io/download/ and add it to system PATH (all users) and restart your PC. The next step should work after that"
      ]
    },
    {
      "cell_type": "code",
      "execution_count": null,
      "metadata": {
        "colab": {
          "base_uri": "https://localhost:8080/"
        },
        "id": "LBEDc05rpzxd",
        "outputId": "038f1d1c-22f3-4651-b8c5-f28fb4f1e64e"
      },
      "outputs": [
        {
          "data": {
            "image/png": "[encoded data removed]",
            "text/plain": [
              "<IPython.core.display.Image object>"
            ]
          },
          "execution_count": 27,
          "metadata": {},
          "output_type": "execute_result"
        }
      ],
      "source": [
        "# Visualize model layers\n",
        "import pydotplus\n",
        "import graphviz\n",
        "from keras.utils.vis_utils import plot_model\n",
        "tf.keras.utils.plot_model(model, show_shapes=True)"
      ]
    },
    {
      "cell_type": "markdown",
      "metadata": {},
      "source": [
        "### 2.3 Train Model"
      ]
    },
    {
      "cell_type": "code",
      "execution_count": null,
      "metadata": {
        "id": "g222W7ji8HAh"
      },
      "outputs": [],
      "source": [
        "# Choose an architecture\n",
        "model = CNN2.build()\n",
        "\n",
        "# Prepare and train model\n",
        "model.compile(loss='categorical_crossentropy', optimizer=optimizers.Adam(lr=0.0003), metrics=['accuracy'])\n",
        "\n",
        "import datetime\n",
        "log_dir=\"logs\\\\fit\\\\\" + datetime.datetime.now().strftime(\"%Y%m%d-%H%M%S\")\n",
        "\n",
        "batch_size_divisor = 2\n",
        "callbacks = [tf.keras.callbacks.EarlyStopping(monitor='loss', patience=50)]\n",
        "\n",
        "history = model.fit(\n",
        "      train_generator,\n",
        "      steps_per_epoch = train_generator.samples // batch_size_divisor,\n",
        "      validation_data = validation_generator, \n",
        "      validation_steps = validation_generator.samples // batch_size_divisor,\n",
        "      epochs = 1000, callbacks=callbacks)"
      ]
    },
    {
      "cell_type": "code",
      "execution_count": null,
      "metadata": {
        "id": "WbpRlHEVEJ88"
      },
      "outputs": [],
      "source": [
        "# Training / validation process visualization\n",
        "plt.plot(history.history['accuracy'])\n",
        "plt.plot(history.history['val_accuracy'])\n",
        "plt.title('model accuracy')\n",
        "plt.ylabel('accuracy')\n",
        "plt.xlabel('epoch')\n",
        "plt.legend(['train', 'test'], loc='upper left')\n",
        "plt.show()\n",
        "\n",
        "from statistics import mean\n",
        "\n",
        "print(\"training acc \", mean(history.history['accuracy']))\n",
        "print(\"validation acc \", mean(history.history['val_accuracy']))\n",
        "print(\"training loss \", mean(history.history['loss']))\n",
        "print(\"validation loss \", mean(history.history['val_loss']))\n",
        "\n",
        "model.summary()"
      ]
    },
    {
      "cell_type": "markdown",
      "metadata": {},
      "source": [
        "### 2.4 Export/Load Model"
      ]
    },
    {
      "cell_type": "code",
      "execution_count": null,
      "metadata": {
        "id": "MUKBDY5YEJq9"
      },
      "outputs": [],
      "source": [
        "# Export model\n",
        "model.save('export\\\\CNN2.h5')"
      ]
    },
    {
      "cell_type": "code",
      "execution_count": null,
      "metadata": {},
      "outputs": [],
      "source": [
        "# Load model\n",
        "model = tf.keras.models.load_model('export\\\\CNN1.h5')"
      ]
    },
    {
      "cell_type": "markdown",
      "metadata": {},
      "source": [
        "### 2.5 Essential Recognition Functions\n",
        "\n",
        "Pre-processing functions together with detection and visualization."
      ]
    },
    {
      "cell_type": "code",
      "execution_count": null,
      "metadata": {
        "id": "OhAUIDd3Zjpq"
      },
      "outputs": [],
      "source": [
        "def extract_plate(plate_img): # the function detects and performs blurring on the number plate.\n",
        "    input_tensor = tf.convert_to_tensor(np.expand_dims(plate_img, 0), dtype=tf.float32)\n",
        "    detections = detect_fn(input_tensor)\n",
        "    box = detections['detection_boxes'][0][0] # Take box with highest score\n",
        "\n",
        "    width = plate_img.shape[1]\n",
        "    height = plate_img.shape[0]\n",
        "\n",
        "    roi = box*[height, width, height, width]\n",
        "    plate = plate_img[int(roi[0]):int(roi[2]),int(roi[1]):int(roi[3])]\n",
        "    \n",
        "    return plate # returning the processed image.\n",
        "\n",
        "def find_contours(dimensions, img) :\n",
        "\n",
        "    # Find all contours in the image\n",
        "    cntrs, _ = cv2.findContours(img.copy(), cv2.RETR_TREE, cv2.CHAIN_APPROX_SIMPLE)\n",
        "\n",
        "    # Retrieve potential dimensions\n",
        "    lower_width = dimensions[0]\n",
        "    upper_width = dimensions[1]\n",
        "    lower_height = dimensions[2]\n",
        "    upper_height = dimensions[3]\n",
        "    \n",
        "    # Check largest 5 or  15 contours for license plate or character respectively\n",
        "    cntrs = sorted(cntrs, key=cv2.contourArea, reverse=True)[:15]\n",
        "    \n",
        "    x_cntr_list = []\n",
        "    target_contours = []\n",
        "    img_res = []\n",
        "    for cntr in cntrs :\n",
        "        #detects contour in binary image and returns the coordinates of rectangle enclosing it\n",
        "        intX, intY, intWidth, intHeight = cv2.boundingRect(cntr)\n",
        "        \n",
        "        #checking the dimensions of the contour to filter out the characters by contour's size\n",
        "        if intWidth > lower_width and intWidth < upper_width and intHeight > lower_height and intHeight < upper_height :\n",
        "            x_cntr_list.append(intX) #stores the x coordinate of the character's contour, to used later for indexing the contours\n",
        "\n",
        "            char_copy = np.zeros((44,24))\n",
        "            #extracting each character using the enclosing rectangle's coordinates.\n",
        "            char = img[intY:intY+intHeight, intX:intX+intWidth]\n",
        "            char = cv2.resize(char, (20, 40))\n",
        "\n",
        "            # Make result formatted for classification: invert colors\n",
        "            char = cv2.subtract(255, char)\n",
        "\n",
        "            # Resize the image to 24x44 with black border\n",
        "            char_copy[2:42, 2:22] = char\n",
        "            char_copy[0:2, :] = 0\n",
        "            char_copy[:, 0:2] = 0\n",
        "            char_copy[42:44, :] = 0\n",
        "            char_copy[:, 22:24] = 0\n",
        "\n",
        "            img_res.append(char_copy) #List that stores the character's binary image (unsorted)\n",
        "            \n",
        "    #Return characters on ascending order with respect to the x-coordinate (most-left character first)\n",
        "            \n",
        "    #arbitrary function that stores sorted list of character indeces\n",
        "    indices = sorted(range(len(x_cntr_list)), key=lambda k: x_cntr_list[k])\n",
        "    img_res_copy = []\n",
        "    for idx in indices:\n",
        "        img_res_copy.append(img_res[idx])# stores character images according to their index\n",
        "    img_res = np.array(img_res_copy)\n",
        "\n",
        "    return img_res\n",
        "\n",
        "def segment_characters(image, dbg=False) :\n",
        "\n",
        "    # Preprocess cropped license plate image\n",
        "    img_lp = cv2.resize(image, (333, 75))\n",
        "    img_gray_lp = cv2.cvtColor(img_lp, cv2.COLOR_BGR2GRAY)\n",
        "    _, img_binary_lp = cv2.threshold(img_gray_lp, 200, 255, cv2.THRESH_BINARY+cv2.THRESH_OTSU)\n",
        "    img_binary_lp = cv2.erode(img_binary_lp, (3,3))\n",
        "    img_binary_lp = cv2.dilate(img_binary_lp, (3,3))\n",
        "\n",
        "    LP_WIDTH = img_binary_lp.shape[0]\n",
        "    LP_HEIGHT = img_binary_lp.shape[1]\n",
        "\n",
        "    # Make borders white\n",
        "    img_binary_lp[0:3,:] = 255\n",
        "    img_binary_lp[:,0:3] = 255\n",
        "    img_binary_lp[72:75,:] = 255\n",
        "    img_binary_lp[:,330:333] = 255\n",
        "\n",
        "    # Estimations of character contours sizes of cropped license plates\n",
        "    dimensions = [LP_WIDTH/6,\n",
        "                       LP_WIDTH/2,\n",
        "                       LP_HEIGHT/10,\n",
        "                       2*LP_HEIGHT/3]\n",
        "\n",
        "    # Get contours within cropped license plate\n",
        "    char_list = find_contours(dimensions, img_binary_lp)\n",
        "\n",
        "    if dbg:\n",
        "        plt.imshow(img_binary_lp, cmap='gray')\n",
        "        plt.show()\n",
        "\n",
        "        for i in range(len(char_list)):\n",
        "            plt.subplot(1, 10, i+1)\n",
        "            plt.imshow(char_list[i], cmap='gray')\n",
        "            plt.axis('off')\n",
        "        plt.show()\n",
        "\n",
        "    return char_list\n",
        "\n",
        "def fix_dimension(img): \n",
        "  new_img = np.zeros((28,28,3))\n",
        "  for i in range(3):\n",
        "    new_img[:,:,i] = img\n",
        "  return new_img\n",
        "\n",
        "DICTIONARY = {}\n",
        "characters = '0123456789ABCDEFGHIJKLMNOPQRSTUVWXYZ'\n",
        "for i,c in enumerate(characters):\n",
        "    DICTIONARY[i] = c\n",
        "\n",
        "def show_results(char, model):\n",
        "    output = []\n",
        "    for i,ch in enumerate(char): #iterating over the characters\n",
        "        img_ = cv2.resize(ch, (28,28))\n",
        "        img = fix_dimension(img_)\n",
        "        img = img.reshape(1,28,28,3) #preparing image for the model\n",
        "        y_ = np.argmax(model.predict(img), axis=-1)\n",
        "        character = DICTIONARY[y_[0]]\n",
        "        output.append(character) #storing the result in a list\n",
        "        \n",
        "    plate_number = ''.join(output)\n",
        "    \n",
        "    return plate_number\n",
        "\n",
        "def visualize_result(char, plate_number):\n",
        "    plt.figure(figsize=(10,6))\n",
        "    for i,ch in enumerate(char):\n",
        "        img = cv2.resize(ch, (28,28))\n",
        "        plt.subplot(3,4,i+1)\n",
        "        plt.imshow(img,cmap='gray')\n",
        "        plt.title(f'predicted: {plate_number[i]}')\n",
        "        plt.axis('off')\n",
        "    plt.show()\n",
        "\n",
        "def license_plate_det_n_recog_vis(image_path, model):\n",
        "    image = cv2.imread(image_path)\n",
        "    plate = extract_plate(image)\n",
        "    char = segment_characters(plate)\n",
        "    plate_number = show_results(char, model)\n",
        "    print(f\"Predicted Plate Number is: {plate_number}\")\n",
        "    visualize_result(char, plate_number)"
      ]
    },
    {
      "cell_type": "code",
      "execution_count": null,
      "metadata": {
        "colab": {
          "base_uri": "https://localhost:8080/",
          "height": 609
        },
        "id": "VwypgmYWZjpq",
        "outputId": "42c77bee-420a-4d9e-d40b-123d17a1ef44"
      },
      "outputs": [
        {
          "data": {
            "image/png": "[encoded data removed]",
            "text/plain": [
              "<Figure size 432x288 with 1 Axes>"
            ]
          },
          "metadata": {
            "needs_background": "light"
          },
          "output_type": "display_data"
        },
        {
          "data": {
            "image/png": "[encoded data removed]",
            "text/plain": [
              "<Figure size 432x288 with 1 Axes>"
            ]
          },
          "metadata": {
            "needs_background": "light"
          },
          "output_type": "display_data"
        },
        {
          "name": "stdout",
          "output_type": "stream",
          "text": [
            "Predicted Plate Number is: HRZ6DK8337\n"
          ]
        },
        {
          "data": {
            "image/png": "[encoded data removed]",
            "text/plain": [
              "<Figure size 720x432 with 10 Axes>"
            ]
          },
          "metadata": {
            "needs_background": "light"
          },
          "output_type": "display_data"
        }
      ],
      "source": [
        "model = tf.keras.models.load_model('export\\\\CNN1.h5')\n",
        "path = os.path.join(paths['IMAGE_PATH'], 'test', 'Cars425.png')\n",
        "license_plate_det_n_recog_vis(path, model)"
      ]
    },
    {
      "cell_type": "markdown",
      "metadata": {},
      "source": [
        "## 3 Real-Time Detection and Recognition\n",
        "\n",
        "### 3.1 Recognition and Saving support functions"
      ]
    },
    {
      "cell_type": "code",
      "execution_count": null,
      "metadata": {},
      "outputs": [],
      "source": [
        "def ocrfn(image):\n",
        "    region = extract_plate(image)\n",
        "    char = segment_characters(region)\n",
        "    output = []\n",
        "    for i,ch in enumerate(char): #iterating over the characters\n",
        "        img_ = cv2.resize(ch, (28,28))\n",
        "        img = fix_dimension(img_)\n",
        "        img = img.reshape(1,28,28,3) #preparing image for the model\n",
        "        y_ = np.argmax(MODEL.predict(img), axis=-1)\n",
        "        character = DICTIONARY[y_[0]] \n",
        "        output.append(character) #storing the result in a list\n",
        "        \n",
        "    plate_number = ''.join(output)\n",
        "    text = []\n",
        "    text.append(plate_number)\n",
        "    \n",
        "    return text, region\n",
        "\n",
        "#Save results function\n",
        "#to save image name that is unique along with the detection result\n",
        "import csv\n",
        "import uuid\n",
        "\n",
        "def save_results(text, region, csv_filename, folder_path):\n",
        "    img_name = '{}.jpg'.format(uuid.uuid1())\n",
        "    \n",
        "    cv2.imwrite(os.path.join(folder_path, img_name), region)\n",
        "    \n",
        "    with open(csv_filename, mode='a', newline='') as f:\n",
        "        csv_writer = csv.writer(f, delimiter=',', quotechar='\"', quoting=csv.QUOTE_MINIMAL)\n",
        "        csv_writer.writerow([img_name, text])"
      ]
    },
    {
      "cell_type": "markdown",
      "metadata": {},
      "source": [
        "### 3.2 Webcam Detection and Recognition Demo\n",
        "\n",
        "For this part you need to train the detection model (chapter 1) and load saved recognition model below. The detection model is difficult to work with, so it is neccessary to train it according to the steps in this notebook.\n",
        "\n",
        "Results are saved into specified file/folder of save_results function."
      ]
    },
    {
      "cell_type": "code",
      "execution_count": null,
      "metadata": {},
      "outputs": [],
      "source": [
        "cap = cv2.VideoCapture(0)\n",
        "width = int(cap.get(cv2.CAP_PROP_FRAME_WIDTH))\n",
        "height = int(cap.get(cv2.CAP_PROP_FRAME_HEIGHT))\n",
        "category_index = label_map_util.create_category_index_from_labelmap(files['LABELMAP'])\n",
        "\n",
        "MODEL = tf.keras.models.load_model('export\\\\CNN1.h5')\n",
        "\n",
        "while cap.isOpened(): \n",
        "    ret, frame = cap.read()\n",
        "    image_np = np.array(frame)\n",
        "    \n",
        "    input_tensor = tf.convert_to_tensor(np.expand_dims(image_np, 0), dtype=tf.float32)\n",
        "    detections = detect_fn(input_tensor)\n",
        "    \n",
        "    num_detections = int(detections.pop('num_detections'))\n",
        "    detections = {key: value[0, :num_detections].numpy()\n",
        "                  for key, value in detections.items()}\n",
        "    detections['num_detections'] = num_detections\n",
        "\n",
        "    # detection_classes should be ints.\n",
        "    detections['detection_classes'] = detections['detection_classes'].astype(np.int64)\n",
        "\n",
        "    label_id_offset = 1\n",
        "    image_np_with_detections = image_np.copy()\n",
        "\n",
        "    viz_utils.visualize_boxes_and_labels_on_image_array(\n",
        "                image_np_with_detections,\n",
        "                detections['detection_boxes'],\n",
        "                detections['detection_classes']+label_id_offset,\n",
        "                detections['detection_scores'],\n",
        "                category_index,\n",
        "                use_normalized_coordinates=True,\n",
        "                max_boxes_to_draw=5,\n",
        "                min_score_thresh=.8,\n",
        "                agnostic_mode=False)\n",
        "\n",
        "    if (num_detections > 0 and detections['detection_scores'][0] > .85):\n",
        "        try: \n",
        "            text, region = ocrfn(image_np_with_detections)\n",
        "            save_results(text, region, 'realtimeresults.csv', 'Detection_Images')\n",
        "        except:\n",
        "            pass\n",
        "    cv2.imshow('object detection',  cv2.resize(image_np_with_detections, (800, 600)))\n",
        "    \n",
        "    if cv2.waitKey(10) & 0xFF == ord('q'):\n",
        "        cap.release()\n",
        "        cv2.destroyAllWindows()\n",
        "        break"
      ]
    }
  ],
  "metadata": {
    "colab": {
      "collapsed_sections": [
        "APUzR2YWZjpR",
        "h1sErOWZZjpa",
        "ZwQmKEl_RbuQ",
        "ncKf0meQZjpr",
        "diZ4__MPZjps"
      ],
      "name": "BDDL-Final.ipynb",
      "provenance": []
    },
    "interpreter": {
      "hash": "b483876ce3ae6e3be1fb53c4e6c574d8d3d2c5b8e7433d79e4ad6fef8ad6e381"
    },
    "kernelspec": {
      "display_name": "anprsys",
      "language": "python",
      "name": "python3"
    },
    "language_info": {
      "codemirror_mode": {
        "name": "ipython",
        "version": 3
      },
      "file_extension": ".py",
      "mimetype": "text/x-python",
      "name": "python",
      "nbconvert_exporter": "python",
      "pygments_lexer": "ipython3",
      "version": "3.7.9"
    },
    "orig_nbformat": 4
  },
  "nbformat": 4,
  "nbformat_minor": 0
}
